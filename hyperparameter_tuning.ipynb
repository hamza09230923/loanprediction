{
 "cells": [
  {
   "cell_type": "markdown",
   "metadata": {},
   "source": [
    "# Loan Prediction: Hyperparameter Tuning"
   ]
  },
  {
   "cell_type": "markdown",
   "metadata": {},
   "source": [
    "## 1. Load and Preprocess Data"
   ]
  },
  {
   "cell_type": "code",
   "execution_count": null,
   "metadata": {},
   "outputs": [],
   "source": [
    "import pandas as pd\\n",
    "from sklearn.model_selection import train_test_split, GridSearchCV\\n",
    "from sklearn.preprocessing import LabelEncoder\\n",
    "from sklearn.ensemble import RandomForestClassifier\\n",
    "from sklearn.metrics import accuracy_score, classification_report\\n",
    "\\n",
    "# Load the dataset\\n",
    "df = pd.read_csv('data/loan_train.csv')\\n",
    "\\n",
    "# Drop Loan_ID\\n",
    "df = df.drop('Loan_ID', axis=1)\\n",
    "\\n",
    "# Handle Missing Values\\n",
    "df['Gender'].fillna(df['Gender'].mode()[0], inplace=True)\\n",
    "df['Married'].fillna(df['Married'].mode()[0], inplace=True)\\n",
    "df['Dependents'].fillna(df['Dependents'].mode()[0], inplace=True)\\n",
    "df['Self_Employed'].fillna(df['Self_Employed'].mode()[0], inplace=True)\\n",
    "df['LoanAmount'].fillna(df['LoanAmount'].median(), inplace=True)\\n",
    "df['Loan_Amount_Term'].fillna(df['Loan_Amount_Term'].median(), inplace=True)\\n",
    "df['Credit_History'].fillna(df['Credit_History'].median(), inplace=True)\\n",
    "\\n",
    "# Categorical Feature Encoding\\n",
    "le = LabelEncoder()\\n",
    "for col in ['Gender', 'Married', 'Education', 'Self_Employed', 'Property_Area', 'Loan_Status', 'Dependents']:\\n",
    "    df[col] = le.fit_transform(df[col])\\n",
    "\\n",
    "# Split data into features (X) and target (y)\\n",
    "X = df.drop('Loan_Status', axis=1)\\n",
    "y = df['Loan_Status']\\n",
    "\\n",
    "# Split data into training and testing sets\\n",
    "X_train, X_test, y_train, y_test = train_test_split(X, y, test_size=0.2, random_state=42)"
   ]
  },
  {
   "cell_type": "markdown",
   "metadata": {},
   "source": [
    "## 2. Hyperparameter Tuning with GridSearchCV"
   ]
  },
  {
   "cell_type": "code",
   "execution_count": null,
   "metadata": {},
   "outputs": [],
   "source": [
    "param_grid = {\\n",
    "    'n_estimators': [100, 200, 300],\\n",
    "    'max_depth': [None, 10, 20, 30],\\n",
    "    'min_samples_split': [2, 5, 10],\\n",
    "    'min_samples_leaf': [1, 2, 4]\\n",
    "}\\n",
    "\\n",
    "rf = RandomForestClassifier(random_state=42)\\n",
    "\\n",
    "grid_search = GridSearchCV(estimator=rf, param_grid=param_grid, cv=5, n_jobs=-1, verbose=2, scoring='accuracy')\\n",
    "\\n",
    "grid_search.fit(X_train, y_train)"
   ]
  },
  {
   "cell_type": "markdown",
   "metadata": {},
   "source": [
    "## 3. Best Parameters and Score"
   ]
  },
  {
   "cell_type": "code",
   "execution_count": null,
   "metadata": {},
   "outputs": [],
   "source": [
    "print(f'Best Parameters: {grid_search.best_params_}')\\n",
    "print(f'Best Score: {grid_search.best_score_}')"
   ]
  },
  {
   "cell_type": "markdown",
   "metadata": {},
   "source": [
    "## 4. Evaluate Tuned Model"
   ]
  },
  {
   "cell_type": "code",
   "execution_count": null,
   "metadata": {},
   "outputs": [],
   "source": [
    "best_rf = grid_search.best_estimator_\\n",
    "y_pred = best_rf.predict(X_test)\\n",
    "\\n",
    "print('Accuracy of the best model on the test set:')\\n",
    "print(accuracy_score(y_test, y_pred))\\n",
    "\\n",
    "print('Classification report of the best model on the test set:')\\n",
    "print(classification_report(y_test, y_pred))"
   ]
  }
 ],
 "metadata": {
  "kernelspec": {
   "display_name": "Python 3",
   "language": "python",
   "name": "python3"
  },
  "language_info": {
   "codemirror_mode": {
    "name": "ipython",
    "version": 3
   },
   "file_extension": ".py",
   "mimetype": "text/x-python",
   "name": "python",
   "nbconvert_exporter": "python",
   "pygments_lexer": "ipython3",
   "version": "3.10.12"
  }
 },
 "nbformat": 4,
 "nbformat_minor": 2
}
